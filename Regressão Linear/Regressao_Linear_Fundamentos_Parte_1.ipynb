{
 "cells": [
  {
   "cell_type": "markdown",
   "metadata": {
    "colab_type": "text",
    "id": "view-in-github"
   },
   "source": [
    "<a href=\"https://colab.research.google.com/github/joaoavelaar/Extracao_de_conhecimento_e_mineracao_de_dados/blob/main/Regressao_Linear_Fundamentos_Parte_1.ipynb\" target=\"_parent\"><img src=\"https://colab.research.google.com/assets/colab-badge.svg\" alt=\"Open In Colab\"/></a>"
   ]
  },
  {
   "cell_type": "markdown",
   "metadata": {
    "id": "ws1y2d4_3Z47"
   },
   "source": [
    "# Regressão Linear - Fundamentos - parte 1"
   ]
  },
  {
   "cell_type": "code",
   "execution_count": 1,
   "metadata": {
    "id": "re4ypYbm3Z4-"
   },
   "outputs": [],
   "source": [
    "\n",
    "# Aluno: Pedro Henrique Pereira do Nascimento"
   ]
  },
  {
   "cell_type": "code",
   "execution_count": null,
   "metadata": {
    "id": "OcSMuTgs3Z4-"
   },
   "outputs": [],
   "source": [
    "#Importando as bibliotecas\n",
    "import numpy as np\n",
    "import pandas as pd\n",
    "import matplotlib.pyplot as plt"
   ]
  },
  {
   "cell_type": "code",
   "execution_count": null,
   "metadata": {
    "id": "c58d1o2R3Z4_"
   },
   "outputs": [],
   "source": [
    "# Carregando os dados em um DataFrame chamado Regresao_Linear\n",
    "dados = pd.read_csv('Regresao_Linear.csv')"
   ]
  },
  {
   "cell_type": "code",
   "execution_count": null,
   "metadata": {
    "id": "BQ9ZVNZ83Z4_",
    "outputId": "b96af661-a62b-47ea-9bed-4b3711e0f7d9"
   },
   "outputs": [
    {
     "data": {
      "text/html": [
       "<div>\n",
       "<style scoped>\n",
       "    .dataframe tbody tr th:only-of-type {\n",
       "        vertical-align: middle;\n",
       "    }\n",
       "\n",
       "    .dataframe tbody tr th {\n",
       "        vertical-align: top;\n",
       "    }\n",
       "\n",
       "    .dataframe thead th {\n",
       "        text-align: right;\n",
       "    }\n",
       "</style>\n",
       "<table border=\"1\" class=\"dataframe\">\n",
       "  <thead>\n",
       "    <tr style=\"text-align: right;\">\n",
       "      <th></th>\n",
       "      <th>X</th>\n",
       "      <th>Y</th>\n",
       "    </tr>\n",
       "  </thead>\n",
       "  <tbody>\n",
       "    <tr>\n",
       "      <th>0</th>\n",
       "      <td>0.00000</td>\n",
       "      <td>-11.656137</td>\n",
       "    </tr>\n",
       "    <tr>\n",
       "      <th>1</th>\n",
       "      <td>0.10101</td>\n",
       "      <td>-8.074456</td>\n",
       "    </tr>\n",
       "    <tr>\n",
       "      <th>2</th>\n",
       "      <td>0.20202</td>\n",
       "      <td>-16.588246</td>\n",
       "    </tr>\n",
       "    <tr>\n",
       "      <th>3</th>\n",
       "      <td>0.30303</td>\n",
       "      <td>-4.275013</td>\n",
       "    </tr>\n",
       "    <tr>\n",
       "      <th>4</th>\n",
       "      <td>0.40404</td>\n",
       "      <td>-8.714275</td>\n",
       "    </tr>\n",
       "  </tbody>\n",
       "</table>\n",
       "</div>"
      ],
      "text/plain": [
       "         X          Y\n",
       "0  0.00000 -11.656137\n",
       "1  0.10101  -8.074456\n",
       "2  0.20202 -16.588246\n",
       "3  0.30303  -4.275013\n",
       "4  0.40404  -8.714275"
      ]
     },
     "execution_count": 3,
     "metadata": {},
     "output_type": "execute_result"
    }
   ],
   "source": [
    "# Exibindo as primeiras linhas\n",
    "dados.head()"
   ]
  },
  {
   "cell_type": "code",
   "execution_count": null,
   "metadata": {
    "id": "l4htrfIe3Z5A"
   },
   "outputs": [],
   "source": [
    "# Atribuindo o valor de X e Y do dataframe em variavel\n",
    "X = dados['X'].values\n",
    "Y = dados['Y'].values"
   ]
  },
  {
   "cell_type": "code",
   "execution_count": null,
   "metadata": {
    "id": "if7_6Pff3Z5A",
    "outputId": "e4b7a30d-e520-483f-cd6a-f68994718bd3"
   },
   "outputs": [
    {
     "data": {
      "image/png": "[encoded data removed]",
      "text/plain": [
       "<Figure size 640x480 with 1 Axes>"
      ]
     },
     "metadata": {},
     "output_type": "display_data"
    }
   ],
   "source": [
    "# Criando um grafico do tipo scatter plot\n",
    "plt.scatter(X,Y,label='Y(X)');\n",
    "plt.xlabel('X');\n",
    "plt.ylabel('Y');\n",
    "plt.legend();"
   ]
  },
  {
   "cell_type": "code",
   "execution_count": null,
   "metadata": {
    "id": "XGHQGFUT3Z5B"
   },
   "outputs": [],
   "source": [
    "# Calcular a media de x\n",
    "media_X = np.mean(X)"
   ]
  },
  {
   "cell_type": "code",
   "execution_count": null,
   "metadata": {
    "id": "cviZeGYC3Z5C"
   },
   "outputs": [],
   "source": [
    "# Calcular a media de y\n",
    "media_Y = np.mean(Y)"
   ]
  },
  {
   "cell_type": "code",
   "execution_count": null,
   "metadata": {
    "id": "w3qG8snS3Z5C"
   },
   "outputs": [],
   "source": [
    "# Inserindo X-media_X entro de erro_x\n",
    "erro_x = X-media_X"
   ]
  },
  {
   "cell_type": "code",
   "execution_count": null,
   "metadata": {
    "id": "kqL99u6v3Z5C"
   },
   "outputs": [],
   "source": [
    "# Inserindo Y-media_Y entro de erro_y\n",
    "erro_y = Y-media_Y"
   ]
  },
  {
   "cell_type": "code",
   "execution_count": null,
   "metadata": {
    "id": "H6I2FcdW3Z5C"
   },
   "outputs": [],
   "source": [
    "# calculando o valor da soma do erro\n",
    "soma_erro_xy = np.sum(erro_x*erro_y)"
   ]
  },
  {
   "cell_type": "code",
   "execution_count": null,
   "metadata": {
    "id": "DUtBADls3Z5C"
   },
   "outputs": [],
   "source": [
    "# Inserindo media de X ao quadrado\n",
    "erro_x_quadratico = (X-media_X)**2.0"
   ]
  },
  {
   "cell_type": "code",
   "execution_count": null,
   "metadata": {
    "id": "0kT3Vjnw3Z5C"
   },
   "outputs": [],
   "source": [
    "# calculando o valor da soma do erro ao quadrado\n",
    "soma_erro_x_quadratico = np.sum(erro_x_quadratico)"
   ]
  },
  {
   "cell_type": "code",
   "execution_count": null,
   "metadata": {
    "id": "VzWYxN3u3Z5D"
   },
   "outputs": [],
   "source": [
    "# Dividindo a soma dos erros XY pelos erro x ao quadrado\n",
    "m = soma_erro_xy / soma_erro_x_quadratico"
   ]
  },
  {
   "cell_type": "code",
   "execution_count": null,
   "metadata": {
    "id": "jl1PjWK_3Z5D",
    "outputId": "8d260dc0-c793-4298-adcc-380bf03bb450"
   },
   "outputs": [
    {
     "name": "stdout",
     "output_type": "stream",
     "text": [
      "Coeficiente angular = 3.51\n"
     ]
    }
   ],
   "source": [
    "# Mostrando o Coeficiente no formato angular\n",
    "print(\"Coeficiente angular = {:0.2f}\".format(m))"
   ]
  },
  {
   "cell_type": "code",
   "execution_count": null,
   "metadata": {
    "id": "r34A4lOD3Z5D"
   },
   "outputs": [],
   "source": [
    "# Subtraindo media y pelo formato linear e multiplicando  pela media X\n",
    "c = media_Y - m*media_X"
   ]
  },
  {
   "cell_type": "code",
   "execution_count": null,
   "metadata": {
    "id": "Zj1fDYJL3Z5D",
    "outputId": "fae53f93-590e-46f9-d146-b279820102e2"
   },
   "outputs": [
    {
     "name": "stdout",
     "output_type": "stream",
     "text": [
      "Coeficiente linear = -11.11\n"
     ]
    }
   ],
   "source": [
    "# Mostrando o Coeficiente no formato linear\n",
    "print(\"Coeficiente linear = {:0.2f}\".format(c))"
   ]
  },
  {
   "cell_type": "code",
   "execution_count": null,
   "metadata": {
    "id": "m1JdQPaa3Z5D"
   },
   "outputs": [],
   "source": [
    "# Atribuindo m*X+c a variavel reta\n",
    "reta = m*X+c"
   ]
  },
  {
   "cell_type": "code",
   "execution_count": null,
   "metadata": {
    "id": "RLocoQsx3Z5D",
    "outputId": "f2e4040a-70d4-4d1a-8e62-a93182af9001"
   },
   "outputs": [
    {
     "data": {
      "image/png": "[encoded data removed]",
      "text/plain": [
       "<Figure size 640x480 with 1 Axes>"
      ]
     },
     "metadata": {},
     "output_type": "display_data"
    }
   ],
   "source": [
    "# Exibe um gráfico do tipo scatter com as variaveis X e Y\n",
    "plt.scatter(X,Y,label='Y(X)');\n",
    "plt.plot(X,reta,label='Ajuste linear',color='red');\n",
    "plt.xlabel('X');\n",
    "plt.ylabel('Y');\n",
    "plt.legend();"
   ]
  },
  {
   "cell_type": "code",
   "execution_count": null,
   "metadata": {
    "id": "sZbGQZuY3Z5D",
    "outputId": "f5f45f94-e9b7-406a-8c12-928b6277d35d"
   },
   "outputs": [
    {
     "name": "stdout",
     "output_type": "stream",
     "text": [
      "MAE = 1.89\n",
      "RMSE = 2.43\n"
     ]
    }
   ],
   "source": [
    "# Importando mean_absolute_error,mean_squared_error dentro de sklearn.metrics\n",
    "from sklearn.metrics import mean_absolute_error,mean_squared_error\n",
    "\n",
    "MAE = mean_absolute_error(Y,reta)\n",
    "RMSE = np.sqrt(mean_squared_error(Y,reta))\n",
    "\n",
    "print(\"MAE = {:0.2f}\".format(MAE))\n",
    "print(\"RMSE = {:0.2f}\".format(RMSE))"
   ]
  }
 ],
 "metadata": {
  "colab": {
   "include_colab_link": true,
   "provenance": []
  },
  "kernelspec": {
   "display_name": "Python 3 (ipykernel)",
   "language": "python",
   "name": "python3"
  },
  "language_info": {
   "codemirror_mode": {
    "name": "ipython",
    "version": 3
   },
   "file_extension": ".py",
   "mimetype": "text/x-python",
   "name": "python",
   "nbconvert_exporter": "python",
   "pygments_lexer": "ipython3",
   "version": "3.11.4"
  }
 },
 "nbformat": 4,
 "nbformat_minor": 1
}
